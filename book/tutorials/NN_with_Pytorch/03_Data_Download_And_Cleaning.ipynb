{
 "cells": [
  {
   "cell_type": "markdown",
   "metadata": {},
   "source": [
    "# Data Download and Cleaning\n",
    "\n",
    "We will download SNOTEL data set using the [metloom](https://metloom.readthedocs.io/en/latest/installation.html)."
   ]
  },
  {
   "cell_type": "markdown",
   "metadata": {},
   "source": [
    "## Download Data"
   ]
  },
  {
   "cell_type": "code",
   "execution_count": null,
   "metadata": {},
   "outputs": [],
   "source": [
    "%pip install -q metloom "
   ]
  },
  {
   "cell_type": "code",
   "execution_count": null,
   "metadata": {},
   "outputs": [],
   "source": [
    "from datetime import datetime\n",
    "from metloom.pointdata import SnotelPointData\n",
    "\n",
    "ALLOWED_VARIABLES = [\n",
    "    SnotelPointData.ALLOWED_VARIABLES.SWE,\n",
    "    SnotelPointData.ALLOWED_VARIABLES.TEMPAVG,\n",
    "    SnotelPointData.ALLOWED_VARIABLES.SNOWDEPTH,\n",
    "    SnotelPointData.ALLOWED_VARIABLES.PRECIPITATION,\n",
    "]\n",
    "\n",
    "# You can get triplets from: https://wcc.sc.egov.usda.gov/nwcc/yearcount?network=sntl&state=&counttype=statelist\n",
    "\n",
    "snotel_point = SnotelPointData(station_id=\"502:WA:SNTL\", name=\"Green Lake\")\n",
    "data = snotel_point.get_daily_data(\n",
    "                start_date=datetime(*(2010, 1, 1)),\n",
    "                end_date=datetime(*(2023, 1, 1)),\n",
    "                variables=ALLOWED_VARIABLES,\n",
    "            )\n",
    "\n",
    "data.info()\n",
    "data.head()"
   ]
  },
  {
   "cell_type": "code",
   "execution_count": null,
   "metadata": {},
   "outputs": [],
   "source": [
    "import numpy as np\n",
    "import pandas as pd\n",
    "import matplotlib.pyplot as plt\n",
    "\n",
    "for_plotting=data.reset_index()\n",
    "\n",
    "units={\n",
    "    \"SWE\": \"in\",\n",
    "    \"SNOWDEPTH\": \"in\",\n",
    "    \"AVG AIR TEMP\": \"degF\",\n",
    "    \"PRECIPITATION\": \"in\"\n",
    "}\n",
    "\n",
    "variables_to_plot = [\n",
    "    \"SWE\", \"SNOWDEPTH\", \"AVG AIR TEMP\", \"PRECIPITATION\"\n",
    "]\n",
    "\n",
    "plt.figure(figsize=(12, 8))\n",
    "\n",
    "for variable in variables_to_plot:\n",
    "    plt.subplot(2, 2, variables_to_plot.index(variable) + 1)\n",
    "    plt.plot(for_plotting[\"datetime\"], for_plotting[variable], label=variable)\n",
    "    plt.ylabel(f\"{variable} ({units[variable]})\", fontsize=14)\n",
    "    plt.xlabel(\"Date\", fontsize=14)\n",
    "\n",
    "plt.tight_layout()\n",
    "plt.show()"
   ]
  },
  {
   "cell_type": "code",
   "execution_count": null,
   "metadata": {},
   "outputs": [],
   "source": [
    "for_plotting.isnull().sum() # Check for missing values"
   ]
  },
  {
   "cell_type": "markdown",
   "metadata": {},
   "source": [
    "## Some Background\n",
    "\n",
    "At a given point, snow depth ($h_s$) is related to Snow Water Equivalent (SWE) by the local bulk density ($\\rho_b$):\n",
    "\n",
    "$$\n",
    "\\text{SWE} = h_s \\frac{\\rho_b}{\\rho_w}\n",
    "$$\n",
    "\n",
    "where depth is measured in centimeters, density in grams per centimeters cubed, $\\rho_w$ is the density of water (1 g cm $^{-3}$), and SWE is measured in centimeters of water. As such,\n",
    "\n",
    "$$\n",
    "\\text{SWE}  = h_s \\times \\frac{\\rho_b}{1}\n",
    "$$\n",
    "\n",
    "$$\n",
    "\\rho_b  = \\frac{\\text{SWE}}{h_s}\n",
    "$$"
   ]
  },
  {
   "cell_type": "code",
   "execution_count": null,
   "metadata": {},
   "outputs": [],
   "source": [
    "clean_df=(\n",
    "    for_plotting\n",
    "    .assign(\n",
    "        swe=lambda x: x.SWE.map(lambda y: y*2.54 if y is not None else None),\n",
    "        snowdepth=lambda x: x.SNOWDEPTH.map(lambda y: y*2.54 if y is not None else None),\n",
    "        precipitation=lambda x: x.PRECIPITATION.map(lambda y: y*2.54 if y is not None else None),\n",
    "        tempavg=lambda x: x['AVG AIR TEMP'].map(lambda y: (y-32)*5/9 if y is not None else None)\n",
    "    )\n",
    "    .set_index('datetime')\n",
    "    .assign(\n",
    "        precip_7_days_avg=lambda x: x.precipitation.shift().rolling(window=\"7D\", min_periods=7).mean(),\n",
    "        tempavg_7_days_avg=lambda x: x.tempavg.shift().rolling(window=\"7D\", min_periods=7).mean(),\n",
    "    )\n",
    "    .filter([\"datetime\", \"swe\", \"snowdepth\", \"tempavg_7_days_avg\", \"precip_7_days_avg\"])\n",
    "    .dropna()\n",
    "    .query(\n",
    "        \"snowdepth != 0 and swe != 0 and \"\n",
    "        \"snowdepth > 5 and swe > 3\"\n",
    "    )\n",
    "    .assign(snowdensity=lambda x: x.swe / x.snowdepth)\n",
    ")\n",
    "\n",
    "clean_df.head()"
   ]
  },
  {
   "cell_type": "code",
   "execution_count": null,
   "metadata": {},
   "outputs": [],
   "source": [
    "# let's store data for later use\n",
    "\n",
    "import os\n",
    "\n",
    "os.makedirs(\"data\", exist_ok=True)\n",
    "clean_df.to_csv(\"data/clean_data.csv\", index=False)"
   ]
  }
 ],
 "metadata": {
  "kernelspec": {
   "display_name": "Python 3",
   "language": "python",
   "name": "python3"
  },
  "language_info": {
   "codemirror_mode": {
    "name": "ipython",
    "version": 3
   },
   "file_extension": ".py",
   "mimetype": "text/x-python",
   "name": "python",
   "nbconvert_exporter": "python",
   "pygments_lexer": "ipython3",
   "version": "3.11.5"
  }
 },
 "nbformat": 4,
 "nbformat_minor": 2
}
